{
 "cells": [
  {
   "cell_type": "code",
   "execution_count": 2,
   "metadata": {},
   "outputs": [],
   "source": [
    "import numpy as np\n",
    "from matplotlib import pyplot as plt\n",
    "%matplotlib inline"
   ]
  },
  {
   "cell_type": "code",
   "execution_count": 3,
   "metadata": {},
   "outputs": [],
   "source": [
    "X=np.array([\n",
    "    [-2,4,-1],\n",
    "    [4,1,-1],\n",
    "    [1,6,-1],\n",
    "    [2,4,-1],\n",
    "    [6,2,-1],\n",
    "])\n",
    "Y=np.array([-1,1,-1,-1,1])"
   ]
  },
  {
   "cell_type": "code",
   "execution_count": 10,
   "metadata": {},
   "outputs": [
    {
     "data": {
      "text/plain": [
       "[<matplotlib.lines.Line2D at 0x28bbec56be0>]"
      ]
     },
     "execution_count": 10,
     "metadata": {},
     "output_type": "execute_result"
    },
    {
     "data": {
      "image/png": "[encoded data removed]",
      "text/plain": [
       "<Figure size 432x288 with 1 Axes>"
      ]
     },
     "metadata": {},
     "output_type": "display_data"
    }
   ],
   "source": [
    "for d,sample in enumerate(X):\n",
    "    #plotting the negative samples or say the first two samples\n",
    "    if d<2:\n",
    "        plt.scatter(sample[0],sample[1],s=120,marker='_',linewidth=2)\n",
    "    else:\n",
    "        plt.scatter(sample[0],sample[1],s=120,marker='+',linewidth=2)\n",
    "plt.plot((-2,6),(6,0.5))        "
   ]
  },
  {
   "cell_type": "code",
   "execution_count": 14,
   "metadata": {},
   "outputs": [],
   "source": [
    "#stochastic gradient descent to learn separating hyperplane\n",
    "def svmPlot(X,Y):\n",
    "    #weight vector with zeroes\n",
    "    q=np.zeroes(len(X[0]))\n",
    "    #learning rate\n",
    "    eta=1\n",
    "    #no of iterations\n",
    "    epochs=100000\n",
    "    #error cna be stored in this\n",
    "    errrors=[]\n",
    "        \n",
    "    #training part\n",
    "    for epoch in range(1,epochs):\n",
    "        error=0\n",
    "        for i,x in enumerate(X):\n",
    "            if(Y[i]*np.dot(X[i],w))<1:\n",
    "                w=w+eta*((X[i]*Y[i])+(-2*(1/epoch)*w))\n",
    "                error=1\n",
    "            else:\n",
    "                w=w+eta*(-2*(1/epoch)*w)\n",
    "        errors.append(error)\n",
    "    #plotting the rate of classification errors \n",
    "    plt.plot(errors,'|')\n",
    "    plt.ylim(0.5,1.5)\n",
    "    plt.axes().set_yticklabels({})\n",
    "    plt.xlabel('epoch')\n",
    "    plt.ylabel('misclassified')\n",
    "    plt.show()\n",
    "    \n",
    "    return w "
   ]
  },
  {
   "cell_type": "code",
   "execution_count": null,
   "metadata": {},
   "outputs": [],
   "source": []
  }
 ],
 "metadata": {
  "kernelspec": {
   "display_name": "Python 3",
   "language": "python",
   "name": "python3"
  },
  "language_info": {
   "codemirror_mode": {
    "name": "ipython",
    "version": 3
   },
   "file_extension": ".py",
   "mimetype": "text/x-python",
   "name": "python",
   "nbconvert_exporter": "python",
   "pygments_lexer": "ipython3",
   "version": "3.6.5"
  }
 },
 "nbformat": 4,
 "nbformat_minor": 2
}
