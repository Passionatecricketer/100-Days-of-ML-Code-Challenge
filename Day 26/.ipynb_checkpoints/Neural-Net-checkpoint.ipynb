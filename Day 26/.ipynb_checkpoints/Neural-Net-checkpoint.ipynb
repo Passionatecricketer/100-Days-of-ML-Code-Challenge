{
 "cells": [
  {
   "cell_type": "code",
   "execution_count": 49,
   "metadata": {},
   "outputs": [],
   "source": [
    "#installed and importing the packages"
   ]
  },
  {
   "cell_type": "code",
   "execution_count": 50,
   "metadata": {},
   "outputs": [],
   "source": [
    "import pandas as pd\n",
    "import numpy as np\n",
    "import matplotlib.pyplot as plt"
   ]
  },
  {
   "cell_type": "code",
   "execution_count": 51,
   "metadata": {},
   "outputs": [],
   "source": [
    "#Data Preprocessing"
   ]
  },
  {
   "cell_type": "code",
   "execution_count": 80,
   "metadata": {},
   "outputs": [],
   "source": [
    "dataset = pd.read_csv('Churn_Modelling.csv')\n",
    "X = dataset.iloc[:, 3:13].values\n",
    "y = dataset.iloc[:, 13].values"
   ]
  },
  {
   "cell_type": "code",
   "execution_count": 81,
   "metadata": {},
   "outputs": [],
   "source": [
    "#encoding categories"
   ]
  },
  {
   "cell_type": "code",
   "execution_count": 82,
   "metadata": {},
   "outputs": [],
   "source": [
    "from sklearn.preprocessing import LabelEncoder, OneHotEncoder\n",
    "labelencoder_X_1 = LabelEncoder()\n",
    "X[:, 1] = labelencoder_X_1.fit_transform(X[:, 1])\n",
    "labelencoder_X_2 = LabelEncoder()\n",
    "X[:, 2] = labelencoder_X_2.fit_transform(X[:, 2])\n",
    "onehotencoder = OneHotEncoder(categorical_features = [1])\n",
    "X = onehotencoder.fit_transform(X).toarray()\n",
    "X = X[:, 1:]"
   ]
  },
  {
   "cell_type": "code",
   "execution_count": 83,
   "metadata": {},
   "outputs": [],
   "source": [
    "#train Test splitting"
   ]
  },
  {
   "cell_type": "code",
   "execution_count": 84,
   "metadata": {},
   "outputs": [],
   "source": [
    "from sklearn.model_selection import train_test_split\n",
    "X_train, X_test, y_train, y_test = train_test_split(X, y, test_size = 0.2, random_state = 0)"
   ]
  },
  {
   "cell_type": "code",
   "execution_count": 85,
   "metadata": {},
   "outputs": [],
   "source": [
    "#feature scaling"
   ]
  },
  {
   "cell_type": "code",
   "execution_count": 86,
   "metadata": {},
   "outputs": [],
   "source": [
    "from sklearn.preprocessing import StandardScaler\n",
    "sc = StandardScaler()\n",
    "X_train = sc.fit_transform(X_train)\n",
    "X_test = sc.transform(X_test)"
   ]
  },
  {
   "cell_type": "code",
   "execution_count": 87,
   "metadata": {},
   "outputs": [],
   "source": [
    "#importing more libraries"
   ]
  },
  {
   "cell_type": "code",
   "execution_count": 88,
   "metadata": {},
   "outputs": [],
   "source": [
    "import keras\n",
    "from keras.models import Sequential\n",
    "from keras.layers import Dense"
   ]
  },
  {
   "cell_type": "code",
   "execution_count": 89,
   "metadata": {},
   "outputs": [],
   "source": [
    "#initialising the classifier for neural network"
   ]
  },
  {
   "cell_type": "code",
   "execution_count": 90,
   "metadata": {},
   "outputs": [],
   "source": [
    "classifier = Sequential()"
   ]
  },
  {
   "cell_type": "code",
   "execution_count": 91,
   "metadata": {},
   "outputs": [],
   "source": [
    "#the input layer and the first hidden layer"
   ]
  },
  {
   "cell_type": "code",
   "execution_count": 92,
   "metadata": {},
   "outputs": [
    {
     "name": "stderr",
     "output_type": "stream",
     "text": [
      "C:\\ProgramData\\Anaconda3\\lib\\site-packages\\ipykernel_launcher.py:1: UserWarning: Update your `Dense` call to the Keras 2 API: `Dense(activation=\"relu\", input_dim=11, units=6, kernel_initializer=\"uniform\")`\n",
      "  \"\"\"Entry point for launching an IPython kernel.\n"
     ]
    }
   ],
   "source": [
    "classifier.add(Dense(output_dim = 6, init = 'uniform', activation = 'relu', input_dim = 11))"
   ]
  },
  {
   "cell_type": "code",
   "execution_count": 93,
   "metadata": {},
   "outputs": [
    {
     "name": "stderr",
     "output_type": "stream",
     "text": [
      "C:\\ProgramData\\Anaconda3\\lib\\site-packages\\ipykernel_launcher.py:1: UserWarning: Update your `Dense` call to the Keras 2 API: `Dense(activation=\"relu\", units=6, kernel_initializer=\"uniform\")`\n",
      "  \"\"\"Entry point for launching an IPython kernel.\n"
     ]
    }
   ],
   "source": [
    "classifier.add(Dense(output_dim = 6, init = 'uniform', activation = 'relu'))"
   ]
  },
  {
   "cell_type": "code",
   "execution_count": 94,
   "metadata": {},
   "outputs": [],
   "source": [
    "#output layer"
   ]
  },
  {
   "cell_type": "code",
   "execution_count": 95,
   "metadata": {},
   "outputs": [
    {
     "name": "stderr",
     "output_type": "stream",
     "text": [
      "C:\\ProgramData\\Anaconda3\\lib\\site-packages\\ipykernel_launcher.py:1: UserWarning: Update your `Dense` call to the Keras 2 API: `Dense(activation=\"sigmoid\", units=1, kernel_initializer=\"uniform\")`\n",
      "  \"\"\"Entry point for launching an IPython kernel.\n"
     ]
    }
   ],
   "source": [
    "classifier.add(Dense(output_dim = 1, init = 'uniform', activation = 'sigmoid'))"
   ]
  },
  {
   "cell_type": "code",
   "execution_count": 96,
   "metadata": {},
   "outputs": [],
   "source": [
    "#compiling part"
   ]
  },
  {
   "cell_type": "code",
   "execution_count": 97,
   "metadata": {},
   "outputs": [],
   "source": [
    "classifier.compile(optimizer = 'adam', loss = 'binary_crossentropy', metrics = ['accuracy'])"
   ]
  },
  {
   "cell_type": "code",
   "execution_count": 98,
   "metadata": {},
   "outputs": [],
   "source": [
    "#fitting the classifier to the training set"
   ]
  },
  {
   "cell_type": "code",
   "execution_count": 99,
   "metadata": {},
   "outputs": [
    {
     "name": "stderr",
     "output_type": "stream",
     "text": [
      "C:\\ProgramData\\Anaconda3\\lib\\site-packages\\ipykernel_launcher.py:1: UserWarning: The `nb_epoch` argument in `fit` has been renamed `epochs`.\n",
      "  \"\"\"Entry point for launching an IPython kernel.\n"
     ]
    },
    {
     "name": "stdout",
     "output_type": "stream",
     "text": [
      "Epoch 1/100\n",
      "8000/8000 [==============================] - 1s 153us/step - loss: 0.4827 - acc: 0.7957\n",
      "Epoch 2/100\n",
      "8000/8000 [==============================] - 1s 101us/step - loss: 0.4278 - acc: 0.7960\n",
      "Epoch 3/100\n",
      "8000/8000 [==============================] - 1s 99us/step - loss: 0.4208 - acc: 0.8169\n",
      "Epoch 4/100\n",
      "8000/8000 [==============================] - 1s 100us/step - loss: 0.4145 - acc: 0.8326\n",
      "Epoch 5/100\n",
      "8000/8000 [==============================] - 1s 103us/step - loss: 0.4108 - acc: 0.8325\n",
      "Epoch 6/100\n",
      "8000/8000 [==============================] - 1s 101us/step - loss: 0.4075 - acc: 0.8324\n",
      "Epoch 7/100\n",
      "8000/8000 [==============================] - 1s 109us/step - loss: 0.4052 - acc: 0.8329\n",
      "Epoch 8/100\n",
      "8000/8000 [==============================] - 1s 98us/step - loss: 0.4028 - acc: 0.8356\n",
      "Epoch 9/100\n",
      "8000/8000 [==============================] - 1s 100us/step - loss: 0.4021 - acc: 0.8346\n",
      "Epoch 10/100\n",
      "8000/8000 [==============================] - 1s 94us/step - loss: 0.4009 - acc: 0.8351\n",
      "Epoch 11/100\n",
      "8000/8000 [==============================] - 1s 94us/step - loss: 0.3993 - acc: 0.8342\n",
      "Epoch 12/100\n",
      "8000/8000 [==============================] - 1s 93us/step - loss: 0.3997 - acc: 0.8356\n",
      "Epoch 13/100\n",
      "8000/8000 [==============================] - 1s 93us/step - loss: 0.3989 - acc: 0.8356\n",
      "Epoch 14/100\n",
      "8000/8000 [==============================] - 1s 92us/step - loss: 0.3983 - acc: 0.8350\n",
      "Epoch 15/100\n",
      "8000/8000 [==============================] - 1s 93us/step - loss: 0.3974 - acc: 0.8357\n",
      "Epoch 16/100\n",
      "8000/8000 [==============================] - 1s 94us/step - loss: 0.3972 - acc: 0.8345\n",
      "Epoch 17/100\n",
      "8000/8000 [==============================] - 1s 97us/step - loss: 0.3972 - acc: 0.8354\n",
      "Epoch 18/100\n",
      "8000/8000 [==============================] - 1s 103us/step - loss: 0.3967 - acc: 0.8356\n",
      "Epoch 19/100\n",
      "8000/8000 [==============================] - 1s 93us/step - loss: 0.3964 - acc: 0.8340\n",
      "Epoch 20/100\n",
      "8000/8000 [==============================] - 1s 101us/step - loss: 0.3963 - acc: 0.8372\n",
      "Epoch 21/100\n",
      "8000/8000 [==============================] - 1s 110us/step - loss: 0.3962 - acc: 0.8342\n",
      "Epoch 22/100\n",
      "8000/8000 [==============================] - 1s 109us/step - loss: 0.3958 - acc: 0.8345\n",
      "Epoch 23/100\n",
      "8000/8000 [==============================] - 1s 108us/step - loss: 0.3954 - acc: 0.8364\n",
      "Epoch 24/100\n",
      "8000/8000 [==============================] - 1s 100us/step - loss: 0.3951 - acc: 0.8354\n",
      "Epoch 25/100\n",
      "8000/8000 [==============================] - 1s 116us/step - loss: 0.3951 - acc: 0.8366\n",
      "Epoch 26/100\n",
      "8000/8000 [==============================] - 1s 114us/step - loss: 0.3954 - acc: 0.8359\n",
      "Epoch 27/100\n",
      "8000/8000 [==============================] - 1s 113us/step - loss: 0.3952 - acc: 0.8357\n",
      "Epoch 28/100\n",
      "8000/8000 [==============================] - 1s 114us/step - loss: 0.3949 - acc: 0.8357\n",
      "Epoch 29/100\n",
      "8000/8000 [==============================] - 1s 119us/step - loss: 0.3949 - acc: 0.8357\n",
      "Epoch 30/100\n",
      "8000/8000 [==============================] - 1s 106us/step - loss: 0.3945 - acc: 0.8365\n",
      "Epoch 31/100\n",
      "8000/8000 [==============================] - 1s 115us/step - loss: 0.3946 - acc: 0.8366\n",
      "Epoch 32/100\n",
      "8000/8000 [==============================] - 1s 119us/step - loss: 0.3944 - acc: 0.8361\n",
      "Epoch 33/100\n",
      "8000/8000 [==============================] - 1s 106us/step - loss: 0.3947 - acc: 0.8361\n",
      "Epoch 34/100\n",
      "8000/8000 [==============================] - 1s 103us/step - loss: 0.3938 - acc: 0.8367\n",
      "Epoch 35/100\n",
      "8000/8000 [==============================] - 1s 101us/step - loss: 0.3945 - acc: 0.8377\n",
      "Epoch 36/100\n",
      "8000/8000 [==============================] - 1s 101us/step - loss: 0.3942 - acc: 0.8374\n",
      "Epoch 37/100\n",
      "8000/8000 [==============================] - 1s 102us/step - loss: 0.3945 - acc: 0.8359\n",
      "Epoch 38/100\n",
      "8000/8000 [==============================] - 1s 101us/step - loss: 0.3939 - acc: 0.8367\n",
      "Epoch 39/100\n",
      "8000/8000 [==============================] - 1s 102us/step - loss: 0.3934 - acc: 0.8366\n",
      "Epoch 40/100\n",
      "8000/8000 [==============================] - 1s 101us/step - loss: 0.3942 - acc: 0.8364\n",
      "Epoch 41/100\n",
      "8000/8000 [==============================] - 1s 101us/step - loss: 0.3937 - acc: 0.8355\n",
      "Epoch 42/100\n",
      "8000/8000 [==============================] - 1s 102us/step - loss: 0.3936 - acc: 0.8371\n",
      "Epoch 43/100\n",
      "8000/8000 [==============================] - 1s 103us/step - loss: 0.3937 - acc: 0.8354\n",
      "Epoch 44/100\n",
      "8000/8000 [==============================] - 1s 104us/step - loss: 0.3938 - acc: 0.8370\n",
      "Epoch 45/100\n",
      "8000/8000 [==============================] - 1s 102us/step - loss: 0.3939 - acc: 0.8362\n",
      "Epoch 46/100\n",
      "8000/8000 [==============================] - 1s 102us/step - loss: 0.3944 - acc: 0.8355\n",
      "Epoch 47/100\n",
      "8000/8000 [==============================] - 1s 102us/step - loss: 0.3935 - acc: 0.8364\n",
      "Epoch 48/100\n",
      "8000/8000 [==============================] - 1s 102us/step - loss: 0.3932 - acc: 0.8370\n",
      "Epoch 49/100\n",
      "8000/8000 [==============================] - 1s 102us/step - loss: 0.3932 - acc: 0.8375\n",
      "Epoch 50/100\n",
      "8000/8000 [==============================] - 1s 101us/step - loss: 0.3930 - acc: 0.8367\n",
      "Epoch 51/100\n",
      "8000/8000 [==============================] - 1s 102us/step - loss: 0.3937 - acc: 0.8359\n",
      "Epoch 52/100\n",
      "8000/8000 [==============================] - 1s 101us/step - loss: 0.3933 - acc: 0.8379\n",
      "Epoch 53/100\n",
      "8000/8000 [==============================] - 1s 100us/step - loss: 0.3937 - acc: 0.8371\n",
      "Epoch 54/100\n",
      "8000/8000 [==============================] - 1s 100us/step - loss: 0.3933 - acc: 0.8365\n",
      "Epoch 55/100\n",
      "8000/8000 [==============================] - 1s 100us/step - loss: 0.3939 - acc: 0.8371\n",
      "Epoch 56/100\n",
      "8000/8000 [==============================] - 1s 101us/step - loss: 0.3938 - acc: 0.8364\n",
      "Epoch 57/100\n",
      "8000/8000 [==============================] - 1s 100us/step - loss: 0.3933 - acc: 0.8366\n",
      "Epoch 58/100\n",
      "8000/8000 [==============================] - 1s 100us/step - loss: 0.3937 - acc: 0.8370\n",
      "Epoch 59/100\n",
      "8000/8000 [==============================] - 1s 100us/step - loss: 0.3937 - acc: 0.8376\n",
      "Epoch 60/100\n",
      "8000/8000 [==============================] - 1s 100us/step - loss: 0.3934 - acc: 0.8361\n",
      "Epoch 61/100\n",
      "8000/8000 [==============================] - 1s 101us/step - loss: 0.3932 - acc: 0.8382\n",
      "Epoch 62/100\n",
      "8000/8000 [==============================] - 1s 100us/step - loss: 0.3936 - acc: 0.8361\n",
      "Epoch 63/100\n",
      "8000/8000 [==============================] - 1s 100us/step - loss: 0.3934 - acc: 0.8359\n",
      "Epoch 64/100\n",
      "8000/8000 [==============================] - 1s 100us/step - loss: 0.3938 - acc: 0.8376\n",
      "Epoch 65/100\n",
      "8000/8000 [==============================] - 1s 100us/step - loss: 0.3930 - acc: 0.8362\n",
      "Epoch 66/100\n",
      "8000/8000 [==============================] - 1s 101us/step - loss: 0.3937 - acc: 0.8357\n",
      "Epoch 67/100\n",
      "8000/8000 [==============================] - 1s 100us/step - loss: 0.3937 - acc: 0.8369\n",
      "Epoch 68/100\n",
      "8000/8000 [==============================] - 1s 102us/step - loss: 0.3932 - acc: 0.8370\n",
      "Epoch 69/100\n",
      "8000/8000 [==============================] - 1s 100us/step - loss: 0.3928 - acc: 0.8386\n",
      "Epoch 70/100\n",
      "8000/8000 [==============================] - 1s 100us/step - loss: 0.3932 - acc: 0.8379\n",
      "Epoch 71/100\n",
      "8000/8000 [==============================] - 1s 101us/step - loss: 0.3928 - acc: 0.8371\n",
      "Epoch 72/100\n",
      "8000/8000 [==============================] - 1s 100us/step - loss: 0.3931 - acc: 0.8377\n",
      "Epoch 73/100\n",
      "8000/8000 [==============================] - 1s 101us/step - loss: 0.3927 - acc: 0.8380\n",
      "Epoch 74/100\n",
      "8000/8000 [==============================] - 1s 101us/step - loss: 0.3932 - acc: 0.8361\n",
      "Epoch 75/100\n",
      "8000/8000 [==============================] - 1s 101us/step - loss: 0.3931 - acc: 0.8371\n",
      "Epoch 76/100\n",
      "8000/8000 [==============================] - 1s 102us/step - loss: 0.3934 - acc: 0.8374\n",
      "Epoch 77/100\n",
      "8000/8000 [==============================] - 1s 100us/step - loss: 0.3931 - acc: 0.8377\n",
      "Epoch 78/100\n",
      "8000/8000 [==============================] - 1s 100us/step - loss: 0.3928 - acc: 0.8372\n",
      "Epoch 79/100\n",
      "8000/8000 [==============================] - 1s 99us/step - loss: 0.3930 - acc: 0.8360\n",
      "Epoch 80/100\n",
      "8000/8000 [==============================] - 1s 101us/step - loss: 0.3933 - acc: 0.8365\n",
      "Epoch 81/100\n",
      "8000/8000 [==============================] - 1s 101us/step - loss: 0.3931 - acc: 0.8365\n",
      "Epoch 82/100\n",
      "8000/8000 [==============================] - 1s 98us/step - loss: 0.3925 - acc: 0.8381\n",
      "Epoch 83/100\n",
      "8000/8000 [==============================] - 1s 98us/step - loss: 0.3927 - acc: 0.8391\n",
      "Epoch 84/100\n",
      "8000/8000 [==============================] - 1s 97us/step - loss: 0.3924 - acc: 0.8391\n",
      "Epoch 85/100\n",
      "8000/8000 [==============================] - 1s 99us/step - loss: 0.3916 - acc: 0.8381\n",
      "Epoch 86/100\n",
      "8000/8000 [==============================] - 1s 98us/step - loss: 0.3916 - acc: 0.8385\n",
      "Epoch 87/100\n",
      "8000/8000 [==============================] - 1s 98us/step - loss: 0.3893 - acc: 0.8387\n",
      "Epoch 88/100\n",
      "8000/8000 [==============================] - 1s 97us/step - loss: 0.3867 - acc: 0.8409\n",
      "Epoch 89/100\n",
      "8000/8000 [==============================] - 1s 98us/step - loss: 0.3836 - acc: 0.8396\n",
      "Epoch 90/100\n",
      "8000/8000 [==============================] - 1s 98us/step - loss: 0.3773 - acc: 0.8409\n",
      "Epoch 91/100\n",
      "8000/8000 [==============================] - 1s 98us/step - loss: 0.3717 - acc: 0.8447\n",
      "Epoch 92/100\n",
      "8000/8000 [==============================] - 1s 98us/step - loss: 0.3685 - acc: 0.8456\n",
      "Epoch 93/100\n",
      "8000/8000 [==============================] - 1s 98us/step - loss: 0.3661 - acc: 0.8465\n",
      "Epoch 94/100\n",
      "8000/8000 [==============================] - 1s 98us/step - loss: 0.3637 - acc: 0.8499\n",
      "Epoch 95/100\n",
      "8000/8000 [==============================] - 1s 98us/step - loss: 0.3621 - acc: 0.8490\n",
      "Epoch 96/100\n",
      "8000/8000 [==============================] - 1s 99us/step - loss: 0.3598 - acc: 0.8539\n",
      "Epoch 97/100\n",
      "8000/8000 [==============================] - 1s 98us/step - loss: 0.3580 - acc: 0.8550\n",
      "Epoch 98/100\n",
      "8000/8000 [==============================] - 1s 114us/step - loss: 0.3557 - acc: 0.8554\n",
      "Epoch 99/100\n",
      "8000/8000 [==============================] - 1s 99us/step - loss: 0.3547 - acc: 0.8574\n",
      "Epoch 100/100\n",
      "8000/8000 [==============================] - 1s 97us/step - loss: 0.3547 - acc: 0.8580\n"
     ]
    },
    {
     "data": {
      "text/plain": [
       "<keras.callbacks.History at 0x2c6ea136978>"
      ]
     },
     "execution_count": 99,
     "metadata": {},
     "output_type": "execute_result"
    }
   ],
   "source": [
    "classifier.fit(X_train, y_train, batch_size = 10, nb_epoch = 100)"
   ]
  },
  {
   "cell_type": "code",
   "execution_count": 100,
   "metadata": {},
   "outputs": [],
   "source": [
    "# Predicting the Test set results"
   ]
  },
  {
   "cell_type": "code",
   "execution_count": 101,
   "metadata": {},
   "outputs": [],
   "source": [
    "y_pred = classifier.predict(X_test)\n",
    "y_pred = (y_pred > 0.5)"
   ]
  },
  {
   "cell_type": "code",
   "execution_count": 102,
   "metadata": {},
   "outputs": [
    {
     "name": "stdout",
     "output_type": "stream",
     "text": [
      "[[False]\n",
      " [False]\n",
      " [False]\n",
      " ...\n",
      " [False]\n",
      " [False]\n",
      " [False]]\n"
     ]
    }
   ],
   "source": [
    "print(y_pred)"
   ]
  },
  {
   "cell_type": "code",
   "execution_count": 103,
   "metadata": {},
   "outputs": [],
   "source": [
    "# Making the Confusion Matrix"
   ]
  },
  {
   "cell_type": "code",
   "execution_count": 104,
   "metadata": {},
   "outputs": [],
   "source": [
    "from sklearn.metrics import confusion_matrix\n",
    "cm = confusion_matrix(y_test, y_pred)"
   ]
  },
  {
   "cell_type": "code",
   "execution_count": 106,
   "metadata": {},
   "outputs": [
    {
     "data": {
      "text/plain": [
       "array([[1513,   82],\n",
       "       [ 200,  205]], dtype=int64)"
      ]
     },
     "execution_count": 106,
     "metadata": {},
     "output_type": "execute_result"
    }
   ],
   "source": [
    "cm"
   ]
  },
  {
   "cell_type": "code",
   "execution_count": 107,
   "metadata": {},
   "outputs": [],
   "source": [
    "#correct predicitons=1513 +205 total predictoins in test= 200 "
   ]
  },
  {
   "cell_type": "code",
   "execution_count": 110,
   "metadata": {},
   "outputs": [],
   "source": [
    "#therefore accuracy= 85%"
   ]
  },
  {
   "cell_type": "code",
   "execution_count": null,
   "metadata": {},
   "outputs": [],
   "source": []
  }
 ],
 "metadata": {
  "kernelspec": {
   "display_name": "Python 3",
   "language": "python",
   "name": "python3"
  },
  "language_info": {
   "codemirror_mode": {
    "name": "ipython",
    "version": 3
   },
   "file_extension": ".py",
   "mimetype": "text/x-python",
   "name": "python",
   "nbconvert_exporter": "python",
   "pygments_lexer": "ipython3",
   "version": "3.6.5"
  }
 },
 "nbformat": 4,
 "nbformat_minor": 2
}
