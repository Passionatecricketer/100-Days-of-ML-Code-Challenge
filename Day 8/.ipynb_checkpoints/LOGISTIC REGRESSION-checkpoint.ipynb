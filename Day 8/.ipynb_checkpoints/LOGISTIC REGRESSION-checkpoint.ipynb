{
 "cells": [
  {
   "cell_type": "code",
   "execution_count": 51,
   "metadata": {},
   "outputs": [],
   "source": [
    "import numpy as np\n",
    "import pandas as pd\n",
    "from patsy import dmatrices # it fits our data into matrices\n",
    "import warnings"
   ]
  },
  {
   "cell_type": "code",
   "execution_count": 52,
   "metadata": {},
   "outputs": [],
   "source": [
    "# here we are defining our sigmoid fuunciton\n",
    "def sigmoid (x):\n",
    "    '''sigmoid function of x.'''\n",
    "    return 1/(1+np.exp(-x))"
   ]
  },
  {
   "cell_type": "code",
   "execution_count": 53,
   "metadata": {},
   "outputs": [],
   "source": [
    "#here we are manually defining all our hyperparameters\n",
    "np.random.seed(2) # getting same random values\n",
    "\n",
    "\n",
    "tol=1e-8  #convergence tolerence(it is gonna tell our model when to stop learning)\n",
    "\n",
    "lam= None # for L2 regularization\n",
    "\n",
    "max_iteration=20\n",
    "\n",
    "# here we use these variables fpor creating our data\n",
    "\n",
    "r=0.95   # covariance between x and z\n",
    "\n",
    "n=1000   # no of observations \n",
    "sigma=1000   # variance of noise  i.e. how spread the data is\n",
    "\n",
    "beta_z,beta_x,beta_v= -4,0.9,1 # i.e. that we know what the true data coefficient of the data are\n",
    "\n",
    "var_x,var_z,var_v=1,1,4   # i.e. variance of inputs i.e. how spread our inputs are\n",
    "\n",
    "# fromula spepcification for model for fititng of the model\n",
    "\n",
    "formula ='y~x+z+v+np.exp(x)+I(v**2+z)'\n"
   ]
  },
  {
   "cell_type": "code",
   "execution_count": 54,
   "metadata": {
    "scrolled": true
   },
   "outputs": [
    {
     "name": "stderr",
     "output_type": "stream",
     "text": [
      "C:\\ProgramData\\Anaconda3\\lib\\site-packages\\ipykernel_launcher.py:3: RuntimeWarning: covariance is not positive-semidefinite.\n",
      "  This is separate from the ipykernel package so we can avoid doing imports until\n"
     ]
    },
    {
     "data": {
      "text/html": [
       "<div>\n",
       "<style scoped>\n",
       "    .dataframe tbody tr th:only-of-type {\n",
       "        vertical-align: middle;\n",
       "    }\n",
       "\n",
       "    .dataframe tbody tr th {\n",
       "        vertical-align: top;\n",
       "    }\n",
       "\n",
       "    .dataframe thead th {\n",
       "        text-align: right;\n",
       "    }\n",
       "</style>\n",
       "<table border=\"1\" class=\"dataframe\">\n",
       "  <thead>\n",
       "    <tr style=\"text-align: right;\">\n",
       "      <th></th>\n",
       "      <th>Intercept</th>\n",
       "      <th>x</th>\n",
       "      <th>z</th>\n",
       "      <th>v</th>\n",
       "      <th>np.exp(x)</th>\n",
       "      <th>I(v ** 2 + z)</th>\n",
       "    </tr>\n",
       "  </thead>\n",
       "  <tbody>\n",
       "    <tr>\n",
       "      <th>0</th>\n",
       "      <td>1.0</td>\n",
       "      <td>0.421998</td>\n",
       "      <td>0.400898</td>\n",
       "      <td>4.159684</td>\n",
       "      <td>1.525005</td>\n",
       "      <td>17.703870</td>\n",
       "    </tr>\n",
       "    <tr>\n",
       "      <th>1</th>\n",
       "      <td>1.0</td>\n",
       "      <td>2.163054</td>\n",
       "      <td>2.054902</td>\n",
       "      <td>5.923396</td>\n",
       "      <td>8.697664</td>\n",
       "      <td>37.141524</td>\n",
       "    </tr>\n",
       "    <tr>\n",
       "      <th>2</th>\n",
       "      <td>1.0</td>\n",
       "      <td>1.815984</td>\n",
       "      <td>1.725185</td>\n",
       "      <td>0.823702</td>\n",
       "      <td>6.147124</td>\n",
       "      <td>2.403670</td>\n",
       "    </tr>\n",
       "    <tr>\n",
       "      <th>3</th>\n",
       "      <td>1.0</td>\n",
       "      <td>-0.509204</td>\n",
       "      <td>-0.483744</td>\n",
       "      <td>1.245744</td>\n",
       "      <td>0.600974</td>\n",
       "      <td>1.068133</td>\n",
       "    </tr>\n",
       "    <tr>\n",
       "      <th>4</th>\n",
       "      <td>1.0</td>\n",
       "      <td>1.071254</td>\n",
       "      <td>1.017691</td>\n",
       "      <td>3.761811</td>\n",
       "      <td>2.919037</td>\n",
       "      <td>15.168915</td>\n",
       "    </tr>\n",
       "  </tbody>\n",
       "</table>\n",
       "</div>"
      ],
      "text/plain": [
       "   Intercept         x         z         v  np.exp(x)  I(v ** 2 + z)\n",
       "0        1.0  0.421998  0.400898  4.159684   1.525005      17.703870\n",
       "1        1.0  2.163054  2.054902  5.923396   8.697664      37.141524\n",
       "2        1.0  1.815984  1.725185  0.823702   6.147124       2.403670\n",
       "3        1.0 -0.509204 -0.483744  1.245744   0.600974       1.068133\n",
       "4        1.0  1.071254  1.017691  3.761811   2.919037      15.168915"
      ]
     },
     "execution_count": 54,
     "metadata": {},
     "output_type": "execute_result"
    }
   ],
   "source": [
    "#here we are generating our data for our model\n",
    "\n",
    "x,z=np.random.multivariate_normal([0,0],[[var_x,r],[var_z,r]],n).T     # here n= no of observations , r=covariance \n",
    "\n",
    "v= np.random.normal(0,var_v,n)\n",
    "\n",
    "A=pd.DataFrame({'x':x,'z':z,'v':v})\n",
    "\n",
    "A['log_odds']=sigmoid(A[['x','z','v']].dot([beta_x,beta_z,beta_v])+sigma*np.random.normal(0,1,n))  # for computing log odds of our independent variables\n",
    "\n",
    "A['y']=[np.random.normal(1,p) for p in A.log_odds]\n",
    "\n",
    "y,X=dmatrices(formula,A,return_type='dataframe')\n",
    "\n",
    "X.head()\n"
   ]
  },
  {
   "cell_type": "code",
   "execution_count": 55,
   "metadata": {},
   "outputs": [],
   "source": [
    "def catch_singularity(f):\n",
    "    '''for catching a wanring f singularioty'''\n",
    "    def silencer (*args,**kwargs):\n",
    "        try:\n",
    "            return f(*args,**kwargs)\n",
    "        except np.linalg.LinAlgError:\n",
    "            warning.warn('Algorithm terminated singular Hessian')\n",
    "            return args[0]\n",
    "        return silencer\n",
    "    "
   ]
  },
  {
   "cell_type": "code",
   "execution_count": 56,
   "metadata": {},
   "outputs": [],
   "source": [
    "def newton_step(curr,X,len=None):\n",
    "    '''One Naive step of newton's method'''\n",
    "    \n",
    "    \n",
    "    # now here we are computing necessary objects\n",
    "    # probability matrix\n",
    "    p=np.array(sigmoid (X.dot(curr[:.0])),ndmin=2).T #ndmin= the dimensions i.e. 2 and T for the transpose\n",
    "    \n",
    "    #creating weight matrix\n",
    "    W=np.diag((p*(1-p))[:,0])\n",
    "    \n",
    "    \n",
    "    # we needed two things i.e. hessian and the gradient \n",
    "    \n",
    "    #deriving the hessian \n",
    "    hessian =X.T.dot(W).dot(X)\n",
    "    \n",
    "    #deriving the gradient\n",
    "    grad=X.T.dot(y-p) #     y is our predicted output p is our probability value \n",
    "    \n",
    "    # regularization step \n",
    "    \n",
    "    if lam:\n",
    "        step ,*_=np.linalg.lstsq(hessian+ lam * np.eye(curr.shape[0]),grad)\n",
    "    else:\n",
    "        step,*_=np.linalg.lstsq(hessian,grad)\n",
    "    beta=curr+step\n",
    "    \n",
    "    return beta"
   ]
  },
  {
   "cell_type": "code",
   "execution_count": 57,
   "metadata": {},
   "outputs": [],
   "source": [
    "def alt_newton_step(curr,X,lam=None):\n",
    "    '''one naive step of newton's method'''\n",
    "    #compute necessary objects\n",
    "    p=np.array(sigmoid(X.dot(curr[:,0])),ndmin=2).T\n",
    "    W=np.diag((p*(1-p))[:,0])\n",
    "    hessian=X.T.dot(W).dot(X)\n",
    "    grad=X.T.dot(y-p)\n",
    "    \n",
    "    #regularization\n",
    "    if lam:\n",
    "        step=np.dot(np.linalg.inv(hessian+lam*np.eye(curr.shape[0])),grad)\n",
    "        \n",
    "    else:\n",
    "        step=np.dot(np.linalg.inv(hessian),grad)\n",
    "        \n",
    "    # update our weights\n",
    "    beta= curr+step\n",
    "    return beta\n"
   ]
  },
  {
   "cell_type": "code",
   "execution_count": 58,
   "metadata": {},
   "outputs": [],
   "source": [
    "# convergence Setup\n",
    "# or the threshold to stop learning \n",
    "def check_coefs_convergence(beta_old,beta_new,tol,iters):\n",
    "    '''Checks whether the coefficients have converged in thr l-infinity norm \n",
    "    Return true if they have cinverged, False Otherwise'''\n",
    "    \n",
    "    coef_change=np.abs(beta_old-beta_new)\n",
    "    \n",
    "    return not (np.any(coef_change>tol)&(iters<max_iter))"
   ]
  },
  {
   "cell_type": "code",
   "execution_count": 68,
   "metadata": {},
   "outputs": [
    {
     "ename": "TypeError",
     "evalue": "newton_step() got an unexpected keyword argument 'lam'",
     "output_type": "error",
     "traceback": [
      "\u001b[1;31m---------------------------------------------------------------------------\u001b[0m",
      "\u001b[1;31mTypeError\u001b[0m                                 Traceback (most recent call last)",
      "\u001b[1;32m<ipython-input-68-d212aeb786fc>\u001b[0m in \u001b[0;36m<module>\u001b[1;34m()\u001b[0m\n\u001b[0;32m      4\u001b[0m \u001b[1;32mwhile\u001b[0m \u001b[1;32mnot\u001b[0m \u001b[0mcoefs_converged\u001b[0m\u001b[1;33m:\u001b[0m\u001b[1;33m\u001b[0m\u001b[0m\n\u001b[0;32m      5\u001b[0m     \u001b[0mbeta_old\u001b[0m\u001b[1;33m=\u001b[0m\u001b[0mbeta\u001b[0m\u001b[1;33m\u001b[0m\u001b[0m\n\u001b[1;32m----> 6\u001b[1;33m     \u001b[0mbeta\u001b[0m\u001b[1;33m=\u001b[0m\u001b[0mnewton_step\u001b[0m\u001b[1;33m(\u001b[0m\u001b[0mbeta\u001b[0m\u001b[1;33m,\u001b[0m\u001b[0mX\u001b[0m\u001b[1;33m,\u001b[0m\u001b[0mlam\u001b[0m\u001b[1;33m=\u001b[0m\u001b[0mlam\u001b[0m\u001b[1;33m)\u001b[0m\u001b[1;33m\u001b[0m\u001b[0m\n\u001b[0m\u001b[0;32m      7\u001b[0m     \u001b[0miter_count\u001b[0m\u001b[1;33m+=\u001b[0m\u001b[1;36m1\u001b[0m\u001b[1;33m\u001b[0m\u001b[0m\n\u001b[0;32m      8\u001b[0m     \u001b[0mcoefs_converged\u001b[0m\u001b[1;33m=\u001b[0m\u001b[0mcheck_coefs_convergence\u001b[0m\u001b[1;33m(\u001b[0m\u001b[0mbeta_old\u001b[0m\u001b[1;33m,\u001b[0m\u001b[0mbeta\u001b[0m\u001b[1;33m,\u001b[0m\u001b[0mtol\u001b[0m\u001b[1;33m,\u001b[0m\u001b[0miter_count\u001b[0m\u001b[1;33m)\u001b[0m\u001b[1;33m\u001b[0m\u001b[0m\n",
      "\u001b[1;31mTypeError\u001b[0m: newton_step() got an unexpected keyword argument 'lam'"
     ]
    }
   ],
   "source": [
    "beta_old,beta=np.ones((len(X.columns),1)),np.zeros((len(X.columns),1))\n",
    "iter_count=0\n",
    "coefs_converged=False\n",
    "while not coefs_converged:\n",
    "    beta_old=beta\n",
    "    beta=newton_step(beta,X,lam=lam)\n",
    "    iter_count+=1\n",
    "    coefs_converged=check_coefs_convergence(beta_old,beta,tol,iter_count)\n",
    "    \n",
    "print('Iteraations : {}'.format(iter_count))\n",
    "print('beta : {}'.format(beta))"
   ]
  },
  {
   "cell_type": "code",
   "execution_count": null,
   "metadata": {},
   "outputs": [],
   "source": []
  },
  {
   "cell_type": "code",
   "execution_count": null,
   "metadata": {},
   "outputs": [],
   "source": []
  },
  {
   "cell_type": "code",
   "execution_count": null,
   "metadata": {},
   "outputs": [],
   "source": []
  }
 ],
 "metadata": {
  "kernelspec": {
   "display_name": "Python 3",
   "language": "python",
   "name": "python3"
  },
  "language_info": {
   "codemirror_mode": {
    "name": "ipython",
    "version": 3
   },
   "file_extension": ".py",
   "mimetype": "text/x-python",
   "name": "python",
   "nbconvert_exporter": "python",
   "pygments_lexer": "ipython3",
   "version": "3.6.5"
  }
 },
 "nbformat": 4,
 "nbformat_minor": 2
}
